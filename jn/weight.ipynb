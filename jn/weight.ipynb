{
 "cells": [
  {
   "cell_type": "code",
   "execution_count": 3,
   "metadata": {
    "ExecuteTime": {
     "end_time": "2018-12-14T10:21:50.367597Z",
     "start_time": "2018-12-14T10:21:50.364376Z"
    }
   },
   "outputs": [],
   "source": [
    "import pandas as pd\n",
    "import numpy as np\n",
    "import seaborn as sns"
   ]
  },
  {
   "cell_type": "code",
   "execution_count": 4,
   "metadata": {
    "ExecuteTime": {
     "end_time": "2018-12-14T10:21:51.343565Z",
     "start_time": "2018-12-14T10:21:51.340180Z"
    }
   },
   "outputs": [],
   "source": [
    "weight = np.array([0.0001804978824527207, 1.4727680934649586e-05, 8.959527504243701e-06, 1.4345946192846482e-06, 1.8584226630184854e-05, 0.0004857549902338731, 6.556164232787439e-06, 8.323218042483258e-05, 1.0696703045323795e-05, 1.864435578637383e-05, 1.0333367342498158e-05, 5.429186494378741e-07, 5.640668149868051e-06, 2.5039914127758388e-05])"
   ]
  },
  {
   "cell_type": "code",
   "execution_count": 5,
   "metadata": {
    "ExecuteTime": {
     "end_time": "2018-12-14T10:22:52.470499Z",
     "start_time": "2018-12-14T10:22:52.451406Z"
    }
   },
   "outputs": [],
   "source": [
    "weight = pd.Series(weight,\n",
    "                   index=[6, 15, 16, 42, 52, 53, 62, 64, 65, 67, 88, 90, 92, 95])"
   ]
  },
  {
   "cell_type": "code",
   "execution_count": 6,
   "metadata": {
    "ExecuteTime": {
     "end_time": "2018-12-14T10:22:55.995674Z",
     "start_time": "2018-12-14T10:22:53.827217Z"
    }
   },
   "outputs": [
    {
     "data": {
      "text/plain": [
       "<matplotlib.axes._subplots.AxesSubplot at 0x7f55b848cba8>"
      ]
     },
     "execution_count": 6,
     "metadata": {},
     "output_type": "execute_result"
    },
    {
     "data": {
      "image/png": "[encoded data removed]",
      "text/plain": [
       "<matplotlib.figure.Figure at 0x7f55eb50d5f8>"
      ]
     },
     "metadata": {},
     "output_type": "display_data"
    }
   ],
   "source": [
    "(weight / weight.sum()).plot(kind='bar')"
   ]
  },
  {
   "cell_type": "code",
   "execution_count": null,
   "metadata": {},
   "outputs": [],
   "source": []
  }
 ],
 "metadata": {
  "kernelspec": {
   "display_name": "Python 3",
   "language": "python",
   "name": "python3"
  },
  "language_info": {
   "codemirror_mode": {
    "name": "ipython",
    "version": 3
   },
   "file_extension": ".py",
   "mimetype": "text/x-python",
   "name": "python",
   "nbconvert_exporter": "python",
   "pygments_lexer": "ipython3",
   "version": "3.6.4"
  }
 },
 "nbformat": 4,
 "nbformat_minor": 2
}
