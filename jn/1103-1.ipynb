{
 "cells": [
  {
   "cell_type": "code",
   "execution_count": 1,
   "metadata": {
    "ExecuteTime": {
     "end_time": "2018-11-02T17:50:17.891485Z",
     "start_time": "2018-11-02T17:50:09.547127Z"
    }
   },
   "outputs": [],
   "source": [
    "import pandas as pd\n",
    "import numpy as np\n",
    "\n",
    "from sys import path\n",
    "path.append('../py/')\n",
    "import utils"
   ]
  },
  {
   "cell_type": "code",
   "execution_count": 2,
   "metadata": {
    "ExecuteTime": {
     "end_time": "2018-11-02T17:50:18.164905Z",
     "start_time": "2018-11-02T17:50:17.899392Z"
    }
   },
   "outputs": [
    {
     "name": "stdout",
     "output_type": "stream",
     "text": [
      "total 105651932\r\n",
      "-rw-rw-r-- 1 Kazuki    24819734 Oct 30 06:57 oid_exgal.pkl\r\n",
      "-rw-rw-r-- 1 Kazuki     3124774 Oct 30 06:57 oid_gal.pkl\r\n",
      "-rw-rw-r-- 1 Kazuki       63462 Oct 30 06:57 target.pkl\r\n",
      "-rw-rw-r-- 1 Kazuki   279432339 Oct 30 08:00 test_f001.pkl\r\n",
      "-rw-rw-r-- 1 Kazuki   838296109 Oct 30 11:26 test_f002.pkl\r\n",
      "-rw-rw-r-- 1 Kazuki 17604223124 Oct 30 12:51 test_f003.pkl\r\n",
      "-rw-rw-r-- 1 Kazuki  5029776406 Oct 30 12:37 test_f004.pkl\r\n",
      "-rw-rw-r-- 1 Kazuki 15089323152 Oct 31 18:43 test_f005.pkl\r\n",
      "-rw-rw-r-- 1 Kazuki   838296109 Oct 31 17:42 test_f006.pkl\r\n",
      "-rw-rw-r-- 1 Kazuki   838296109 Oct 31 12:51 test_f007.pkl\r\n",
      "-rw-rw-r-- 1 Kazuki 36884968726 Oct 31 15:39 test_f008.pkl\r\n",
      "-rw-rw-r-- 1 Kazuki   726523688 Oct 31 16:37 test_fbk1-002.pkl\r\n",
      "-rw-rw-r-- 1 Kazuki  3143608240 Oct 31 16:54 test_fbk1-004.pkl\r\n",
      "-rw-rw-r-- 1 Kazuki   265341414 Oct 30 07:05 test_log00.pkl\r\n",
      "-rw-rw-r-- 1 Kazuki   264644022 Oct 30 07:06 test_log01.pkl\r\n",
      "-rw-rw-r-- 1 Kazuki   260844848 Oct 30 07:06 test_log02.pkl\r\n",
      "-rw-rw-r-- 1 Kazuki   261781200 Oct 30 07:06 test_log03.pkl\r\n",
      "-rw-rw-r-- 1 Kazuki   262575452 Oct 30 07:06 test_log04.pkl\r\n",
      "-rw-rw-r-- 1 Kazuki   261792626 Oct 30 07:06 test_log05.pkl\r\n",
      "-rw-rw-r-- 1 Kazuki   265394368 Oct 30 07:06 test_log06.pkl\r\n",
      "-rw-rw-r-- 1 Kazuki   260180342 Oct 30 07:06 test_log07.pkl\r\n",
      "-rw-rw-r-- 1 Kazuki   262945144 Oct 30 07:06 test_log08.pkl\r\n",
      "-rw-rw-r-- 1 Kazuki   263895126 Oct 30 07:06 test_log09.pkl\r\n",
      "-rw-rw-r-- 1 Kazuki   263950516 Oct 30 07:06 test_log10.pkl\r\n",
      "-rw-rw-r-- 1 Kazuki   263706220 Oct 30 07:07 test_log11.pkl\r\n",
      "-rw-rw-r-- 1 Kazuki   261843028 Oct 30 07:07 test_log12.pkl\r\n",
      "-rw-rw-r-- 1 Kazuki   262281102 Oct 30 07:07 test_log13.pkl\r\n",
      "-rw-rw-r-- 1 Kazuki   262832972 Oct 30 07:07 test_log14.pkl\r\n",
      "-rw-rw-r-- 1 Kazuki   262271184 Oct 30 07:07 test_log15.pkl\r\n",
      "-rw-rw-r-- 1 Kazuki   260847922 Oct 30 07:07 test_log16.pkl\r\n",
      "-rw-rw-r-- 1 Kazuki   263626992 Oct 30 07:07 test_log17.pkl\r\n",
      "-rw-rw-r-- 1 Kazuki   263321738 Oct 30 07:07 test_log18.pkl\r\n",
      "-rw-rw-r-- 1 Kazuki   262865104 Oct 30 07:07 test_log19.pkl\r\n",
      "-rw-rw-r-- 1 Kazuki   262976406 Oct 30 07:07 test_log20.pkl\r\n",
      "-rw-rw-r-- 1 Kazuki   261653832 Oct 30 07:08 test_log21.pkl\r\n",
      "-rw-rw-r-- 1 Kazuki   264554702 Oct 30 07:08 test_log22.pkl\r\n",
      "-rw-rw-r-- 1 Kazuki   261359772 Oct 30 07:08 test_log23.pkl\r\n",
      "-rw-rw-r-- 1 Kazuki   261717980 Oct 30 07:08 test_log24.pkl\r\n",
      "-rw-rw-r-- 1 Kazuki   262800028 Oct 30 07:08 test_log25.pkl\r\n",
      "-rw-rw-r-- 1 Kazuki   263233172 Oct 30 07:08 test_log26.pkl\r\n",
      "-rw-rw-r-- 1 Kazuki   263226502 Oct 30 07:08 test_log27.pkl\r\n",
      "-rw-rw-r-- 1 Kazuki   263523636 Oct 30 07:08 test_log28.pkl\r\n",
      "-rw-rw-r-- 1 Kazuki   262755542 Oct 30 07:08 test_log29.pkl\r\n",
      "-rw-rw-r-- 1 Kazuki   262536998 Oct 30 07:08 test_log30.pkl\r\n",
      "-rw-rw-r-- 1 Kazuki   263061956 Oct 30 07:08 test_log31.pkl\r\n",
      "-rw-rw-r-- 1 Kazuki   261053126 Oct 30 07:09 test_log32.pkl\r\n",
      "-rw-rw-r-- 1 Kazuki   260843572 Oct 30 07:09 test_log33.pkl\r\n",
      "-rw-rw-r-- 1 Kazuki   264166334 Oct 30 07:09 test_log34.pkl\r\n",
      "-rw-rw-r-- 1 Kazuki   260849546 Oct 30 07:09 test_log35.pkl\r\n",
      "-rw-rw-r-- 1 Kazuki   263442494 Oct 30 07:09 test_log36.pkl\r\n",
      "-rw-rw-r-- 1 Kazuki   264915462 Oct 30 07:09 test_log37.pkl\r\n",
      "-rw-rw-r-- 1 Kazuki   263353058 Oct 30 07:09 test_log38.pkl\r\n",
      "-rw-rw-r-- 1 Kazuki   261218426 Oct 30 07:09 test_log39.pkl\r\n",
      "-rw-rw-r-- 1 Kazuki   262004326 Oct 30 07:09 test_log40.pkl\r\n",
      "-rw-rw-r-- 1 Kazuki   264483304 Oct 30 07:09 test_log41.pkl\r\n",
      "-rw-rw-r-- 1 Kazuki   263617944 Oct 30 07:10 test_log42.pkl\r\n",
      "-rw-rw-r-- 1 Kazuki   263032898 Oct 30 07:10 test_log43.pkl\r\n",
      "-rw-rw-r-- 1 Kazuki   259985462 Oct 30 07:10 test_log44.pkl\r\n",
      "-rw-rw-r-- 1 Kazuki   265430676 Oct 30 07:10 test_log45.pkl\r\n",
      "-rw-rw-r-- 1 Kazuki   262530676 Oct 30 07:10 test_log46.pkl\r\n",
      "-rw-rw-r-- 1 Kazuki   261616538 Oct 30 07:10 test_log47.pkl\r\n",
      "-rw-rw-r-- 1 Kazuki   262573016 Oct 30 07:10 test_log48.pkl\r\n",
      "-rw-rw-r-- 1 Kazuki   264527964 Oct 30 07:10 test_log49.pkl\r\n",
      "-rw-rw-r-- 1 Kazuki   263810504 Oct 30 07:10 test_log50.pkl\r\n",
      "-rw-rw-r-- 1 Kazuki   263921052 Oct 30 07:10 test_log51.pkl\r\n",
      "-rw-rw-r-- 1 Kazuki   261466376 Oct 30 07:11 test_log52.pkl\r\n",
      "-rw-rw-r-- 1 Kazuki   264306694 Oct 30 07:11 test_log53.pkl\r\n",
      "-rw-rw-r-- 1 Kazuki   261272018 Oct 30 07:11 test_log54.pkl\r\n",
      "-rw-rw-r-- 1 Kazuki   263214844 Oct 30 07:11 test_log55.pkl\r\n",
      "-rw-rw-r-- 1 Kazuki   266304910 Oct 30 07:11 test_log56.pkl\r\n",
      "-rw-rw-r-- 1 Kazuki   265599456 Oct 30 07:11 test_log57.pkl\r\n",
      "-rw-rw-r-- 1 Kazuki   266374568 Oct 30 07:11 test_log58.pkl\r\n",
      "-rw-rw-r-- 1 Kazuki   261067220 Oct 30 07:11 test_log59.pkl\r\n",
      "-rw-rw-r-- 1 Kazuki   265000606 Oct 30 07:11 test_log60.pkl\r\n",
      "-rw-rw-r-- 1 Kazuki   265054140 Oct 30 07:11 test_log61.pkl\r\n",
      "-rw-rw-r-- 1 Kazuki   262315786 Oct 30 07:11 test_log62.pkl\r\n",
      "-rw-rw-r-- 1 Kazuki   264741172 Oct 30 07:12 test_log63.pkl\r\n",
      "-rw-rw-r-- 1 Kazuki   263963392 Oct 30 07:12 test_log64.pkl\r\n",
      "-rw-rw-r-- 1 Kazuki   265173098 Oct 30 07:12 test_log65.pkl\r\n",
      "-rw-rw-r-- 1 Kazuki   262364332 Oct 30 07:12 test_log66.pkl\r\n",
      "-rw-rw-r-- 1 Kazuki   261526000 Oct 30 07:12 test_log67.pkl\r\n",
      "-rw-rw-r-- 1 Kazuki   262543784 Oct 30 07:12 test_log68.pkl\r\n",
      "-rw-rw-r-- 1 Kazuki   262985106 Oct 30 07:12 test_log69.pkl\r\n",
      "-rw-rw-r-- 1 Kazuki   263642942 Oct 30 07:12 test_log70.pkl\r\n",
      "-rw-rw-r-- 1 Kazuki   262929542 Oct 30 07:12 test_log71.pkl\r\n",
      "-rw-rw-r-- 1 Kazuki   262341248 Oct 30 07:12 test_log72.pkl\r\n",
      "-rw-rw-r-- 1 Kazuki   261751098 Oct 30 07:13 test_log73.pkl\r\n",
      "-rw-rw-r-- 1 Kazuki   263908408 Oct 30 07:13 test_log74.pkl\r\n",
      "-rw-rw-r-- 1 Kazuki   261700116 Oct 30 07:13 test_log75.pkl\r\n",
      "-rw-rw-r-- 1 Kazuki   266739736 Oct 30 07:13 test_log76.pkl\r\n",
      "-rw-rw-r-- 1 Kazuki   263065436 Oct 30 07:13 test_log77.pkl\r\n",
      "-rw-rw-r-- 1 Kazuki   265621670 Oct 30 07:13 test_log78.pkl\r\n",
      "-rw-rw-r-- 1 Kazuki   264605046 Oct 30 07:13 test_log79.pkl\r\n",
      "-rw-rw-r-- 1 Kazuki   264581904 Oct 30 07:13 test_log80.pkl\r\n",
      "-rw-rw-r-- 1 Kazuki   263678844 Oct 30 07:13 test_log81.pkl\r\n",
      "-rw-rw-r-- 1 Kazuki   261936002 Oct 30 07:13 test_log82.pkl\r\n",
      "-rw-rw-r-- 1 Kazuki   263711846 Oct 30 07:14 test_log83.pkl\r\n",
      "-rw-rw-r-- 1 Kazuki   263585928 Oct 30 07:14 test_log84.pkl\r\n",
      "-rw-rw-r-- 1 Kazuki   262333940 Oct 30 07:14 test_log85.pkl\r\n",
      "-rw-rw-r-- 1 Kazuki   264763328 Oct 30 07:14 test_log86.pkl\r\n",
      "-rw-rw-r-- 1 Kazuki   263237928 Oct 30 07:14 test_log87.pkl\r\n",
      "-rw-rw-r-- 1 Kazuki   261739730 Oct 30 07:14 test_log88.pkl\r\n",
      "-rw-rw-r-- 1 Kazuki   265157670 Oct 30 07:14 test_log89.pkl\r\n",
      "-rw-rw-r-- 1 Kazuki   260641732 Oct 30 07:14 test_log90.pkl\r\n",
      "-rw-rw-r-- 1 Kazuki   263109400 Oct 30 07:14 test_log91.pkl\r\n",
      "-rw-rw-r-- 1 Kazuki   261671870 Oct 30 07:14 test_log92.pkl\r\n",
      "-rw-rw-r-- 1 Kazuki   266178296 Oct 30 07:15 test_log93.pkl\r\n",
      "-rw-rw-r-- 1 Kazuki   263279050 Oct 30 07:15 test_log94.pkl\r\n",
      "-rw-rw-r-- 1 Kazuki   263067118 Oct 30 07:15 test_log95.pkl\r\n",
      "-rw-rw-r-- 1 Kazuki   261977240 Oct 30 07:15 test_log96.pkl\r\n",
      "-rw-rw-r-- 1 Kazuki   261951836 Oct 30 07:15 test_log97.pkl\r\n",
      "-rw-rw-r-- 1 Kazuki   263707554 Oct 30 07:15 test_log98.pkl\r\n",
      "-rw-rw-r-- 1 Kazuki   262416648 Oct 30 07:15 test_log99.pkl\r\n",
      "-rw-rw-r-- 1 Kazuki   307375388 Oct 30 06:57 test.pkl\r\n",
      "-rw-rw-r-- 1 Kazuki      628964 Oct 30 08:00 train_f001.pkl\r\n",
      "-rw-rw-r-- 1 Kazuki     1886023 Oct 30 11:14 train_f002.pkl\r\n",
      "-rw-rw-r-- 1 Kazuki    39611430 Oct 30 11:55 train_f003.pkl\r\n",
      "-rw-rw-r-- 1 Kazuki    11315920 Oct 30 12:01 train_f004.pkl\r\n",
      "-rw-rw-r-- 1 Kazuki    33941698 Oct 31 17:31 train_f005.pkl\r\n",
      "-rw-rw-r-- 1 Kazuki     1886023 Oct 31 17:29 train_f006.pkl\r\n",
      "-rw-rw-r-- 1 Kazuki     1886023 Oct 31 12:41 train_f007.pkl\r\n",
      "-rw-rw-r-- 1 Kazuki    82925198 Oct 31 13:53 train_f008.pkl\r\n",
      "-rw-rw-r-- 1 Kazuki     1634933 Oct 31 16:29 train_fbk1-002.pkl\r\n",
      "-rw-rw-r-- 1 Kazuki     7070430 Oct 31 16:37 train_fbk1-004.pkl\r\n",
      "-rw-rw-r-- 1 Kazuki    82460338 Oct 30 06:57 train_log.pkl\r\n",
      "-rw-rw-r-- 1 Kazuki      754504 Oct 30 06:57 train.pkl\r\n",
      "-rw-rw-r-- 1 Kazuki      989773 Nov  2 17:49 y_pred.pkl\r\n",
      "-rw-rw-r-- 1 Kazuki      110805 Nov  2 17:49 y_true.pkl\r\n"
     ]
    }
   ],
   "source": [
    "ll ../data/"
   ]
  },
  {
   "cell_type": "code",
   "execution_count": 50,
   "metadata": {
    "ExecuteTime": {
     "end_time": "2018-11-02T18:17:11.626525Z",
     "start_time": "2018-11-02T18:17:11.588576Z"
    }
   },
   "outputs": [],
   "source": [
    "y_true = pd.read_pickle('../data/y_true.pkl').values\n",
    "y_pred = pd.read_pickle('../data/y_pred.pkl').values"
   ]
  },
  {
   "cell_type": "code",
   "execution_count": 54,
   "metadata": {
    "ExecuteTime": {
     "end_time": "2018-11-02T18:18:06.873324Z",
     "start_time": "2018-11-02T18:18:06.868484Z"
    }
   },
   "outputs": [],
   "source": [
    "y_pred = y_pred.astype(float)"
   ]
  },
  {
   "cell_type": "code",
   "execution_count": 13,
   "metadata": {
    "ExecuteTime": {
     "end_time": "2018-11-02T17:54:23.623847Z",
     "start_time": "2018-11-02T17:54:23.619767Z"
    }
   },
   "outputs": [
    {
     "data": {
      "text/plain": [
       "array([[0.0009505958376533336, 0.00025884967702269134,\n",
       "        0.08371499526789983, ..., 0.00037782096681084553,\n",
       "        0.9084327963237997, 0.00016212052432236845],\n",
       "       [0.0005430252310503553, 0.002980356597897322,\n",
       "        0.0037195013733742495, ..., 0.005165907624154909,\n",
       "        0.0010706449495498983, 0.0016684597149904555],\n",
       "       [0.001224858331589871, 0.00037114662207022187,\n",
       "        0.0003382994055490172, ..., 0.1793990633515133,\n",
       "        0.0013189531107712599, 0.0011604345213289751],\n",
       "       ...,\n",
       "       [0.006358725512743429, 0.0003764714901848215, 0.9014462576419001,\n",
       "        ..., 0.0007094698153977152, 0.0012496005980834485,\n",
       "        0.00015143204877152746],\n",
       "       [0.00012920061031243085, 0.0004389285996862273,\n",
       "        9.057957440755234e-05, ..., 0.00021741054223480078,\n",
       "        0.00012116956155298362, 2.3922582752609507e-05],\n",
       "       [0.9067834269484193, 0.005286130349579469, 0.001962580494436689,\n",
       "        ..., 0.018632330044072627, 0.035331341750558416,\n",
       "        0.00340646692568313]], dtype=object)"
      ]
     },
     "execution_count": 13,
     "metadata": {},
     "output_type": "execute_result"
    }
   ],
   "source": [
    "y_pred"
   ]
  },
  {
   "cell_type": "code",
   "execution_count": 4,
   "metadata": {
    "ExecuteTime": {
     "end_time": "2018-11-02T17:51:00.413238Z",
     "start_time": "2018-11-02T17:50:59.779931Z"
    }
   },
   "outputs": [],
   "source": [
    "oid_gal   = pd.read_pickle('../data/oid_gal.pkl').object_id\n",
    "oid_exgal = pd.read_pickle('../data/oid_exgal.pkl').object_id"
   ]
  },
  {
   "cell_type": "code",
   "execution_count": 5,
   "metadata": {
    "ExecuteTime": {
     "end_time": "2018-11-02T17:51:14.374253Z",
     "start_time": "2018-11-02T17:51:14.225427Z"
    }
   },
   "outputs": [],
   "source": [
    "def multi_weighted_logloss(y_true, y_pred, myweight=None):\n",
    "    \"\"\"\n",
    "    @author olivier https://www.kaggle.com/ogrellier\n",
    "    multi logloss for PLAsTiCC challenge\n",
    "    \"\"\"\n",
    "    # class_weights taken from Giba's topic : https://www.kaggle.com/titericz\n",
    "    # https://www.kaggle.com/c/PLAsTiCC-2018/discussion/67194\n",
    "    # with Kyle Boone's post https://www.kaggle.com/kyleboone\n",
    "    classes = [6, 15, 16, 42, 52, 53, 62, 64, 65, 67, 88, 90, 92, 95]\n",
    "    class_weight = {6: 1, 15: 2, 16: 1, 42: 1, 52: 1, 53: 1, 62: 1, 64: 2, 65: 1, 67: 1, 88: 1, 90: 1, 92: 1, 95: 1}\n",
    "    if y_true.shape[1] > 14:\n",
    "        classes.append(99)\n",
    "        class_weight[99] = 2\n",
    "    \n",
    "    if myweight is None:\n",
    "        myweight = np.ones(M)\n",
    "    y_p = y_pred * myweight\n",
    "    \n",
    "    # normalize\n",
    "    y_p /= y_p.sum(1)[:,None]\n",
    "    \n",
    "    # Normalize rows and limit y_preds to 1e-15, 1-1e-15\n",
    "    y_p = np.clip(a=y_p, a_min=1e-15, a_max=1 - 1e-15)\n",
    "    # Transform to log\n",
    "    y_p_log = np.log(y_p)\n",
    "    # Get the log for ones, .values is used to drop the index of DataFrames\n",
    "    # Exclude class 99 for now, since there is no class99 in the training set\n",
    "    # we gave a special process for that class\n",
    "    y_log_ones = np.sum(y_true * y_p_log, axis=0)\n",
    "    # Get the number of positives for each class\n",
    "    nb_pos = y_true.sum(axis=0).astype(float)\n",
    "    # Weight average and divide by the number of positives\n",
    "    class_arr = np.array([class_weight[k] for k in sorted(class_weight.keys())])\n",
    "    y_w = y_log_ones * class_arr / nb_pos\n",
    "\n",
    "    loss = - np.sum(y_w) / np.sum(class_arr)\n",
    "    return loss\n",
    "\n",
    "\n",
    "def calc_gradient(f, X):\n",
    "    \"\"\"\n",
    "    calc_gradient\n",
    "    偏微分を行う関数\n",
    "    関数fを変数xの各要素で偏微分した結果をベクトルにした勾配を返す\n",
    "    \n",
    "    @params\n",
    "    f: 対象となる関数\n",
    "    X: 関数fの引数のベクトル(numpy.array)\n",
    "    \n",
    "    @return\n",
    "    gradient: 勾配(numpy.array)\n",
    "    \"\"\"\n",
    "    \n",
    "    h = 1e-4\n",
    "    gradient = np.zeros_like(X)\n",
    "    \n",
    "    # 各変数についての偏微分を計算する\n",
    "    for i in range(X.size):\n",
    "        store_X = X[:]\n",
    "        \n",
    "        # f(x+h)\n",
    "        X[i] += h\n",
    "        f_x_plus_h = f(X)\n",
    "\n",
    "        X = store_X[:]\n",
    "        \n",
    "        # f(x-h)\n",
    "        X[i] -= h\n",
    "        f_x_minus_h = f(X)\n",
    "        \n",
    "        # 偏微分\n",
    "        gradient[i] = (f_x_plus_h - f_x_minus_h) / (2 * h)\n",
    "        \n",
    "    return gradient\n",
    "\n",
    "def gradient_descent(f, X, learning_rate, max_iter):\n",
    "    \"\"\"\n",
    "    gradient_descent\n",
    "    最急降下法を行う関数\n",
    "    \n",
    "    @params\n",
    "    f: 対象となる関数\n",
    "    X: 関数fの引数のベクトル(numpy.array)\n",
    "    learning_rate: 学習率\n",
    "    max_iter: 繰り返し回数\n",
    "    \n",
    "    @return\n",
    "    X: 関数の出力を最小にする(であろう)引数(numpy.array)\n",
    "    \"\"\"\n",
    "    \n",
    "    for i in range(max_iter):\n",
    "        X -= (learning_rate * calc_gradient(f, X))\n",
    "        if i%50==0:\n",
    "            print(\"[{:3d}] X = {}, f(X) = {:.7f}\".format(i, X, f(X)))\n",
    "        \n",
    "    return X"
   ]
  },
  {
   "cell_type": "code",
   "execution_count": 6,
   "metadata": {
    "ExecuteTime": {
     "end_time": "2018-11-02T17:51:20.143065Z",
     "start_time": "2018-11-02T17:51:20.139951Z"
    }
   },
   "outputs": [],
   "source": [
    "M = 14\n",
    "\n",
    "X = np.ones(M)"
   ]
  },
  {
   "cell_type": "code",
   "execution_count": 11,
   "metadata": {
    "ExecuteTime": {
     "end_time": "2018-11-02T17:53:54.823765Z",
     "start_time": "2018-11-02T17:53:54.819849Z"
    }
   },
   "outputs": [
    {
     "data": {
      "text/plain": [
       "((7848, 14), (7848, 14))"
      ]
     },
     "execution_count": 11,
     "metadata": {},
     "output_type": "execute_result"
    }
   ],
   "source": [
    "y_true.shape, y_pred.shape"
   ]
  },
  {
   "cell_type": "code",
   "execution_count": 56,
   "metadata": {
    "ExecuteTime": {
     "end_time": "2018-11-02T18:21:24.220968Z",
     "start_time": "2018-11-02T18:19:16.828615Z"
    }
   },
   "outputs": [
    {
     "name": "stdout",
     "output_type": "stream",
     "text": [
      "[  0] X = [1.02031787 1.08416676 0.25167659 0.20050711 1.85427079 1.50502924\n",
      " 0.52488637 3.05258952 0.19932094 1.463357   0.65343934 0.11475691\n",
      " 0.59903887 1.25227981], f(X) = 0.6208683\n",
      "[ 50] X = [1.01942445 1.08155556 0.25127425 0.18195751 1.85193459 1.50507269\n",
      " 0.52068427 3.06033257 0.19906193 1.46112444 0.65181473 0.07840132\n",
      " 0.59714247 1.25160852], f(X) = 0.6179282\n",
      "[100] X = [1.01842369 1.07801999 0.25081318 0.18056766 1.84851848 1.50487844\n",
      " 0.5159042  3.06769345 0.19873655 1.45800572 0.65006281 0.07812649\n",
      " 0.59519545 1.25045271], f(X) = 0.6178792\n",
      "[150] X = [1.0173954  1.07454725 0.25035218 0.18004903 1.84502183 1.50461535\n",
      " 0.51231021 3.07488284 0.19844989 1.45482601 0.64832009 0.07793879\n",
      " 0.59328683 1.24921598], f(X) = 0.6178357\n",
      "[200] X = [1.01634758 1.07117926 0.24989578 0.17962146 1.84148876 1.50429469\n",
      " 0.50960137 3.08191884 0.19819528 1.45163545 0.64659291 0.07777147\n",
      " 0.59141982 1.24792296], f(X) = 0.6177956\n",
      "[250] X = [1.01528509 1.06792873 0.2494462  0.17924325 1.83793895 1.5039227\n",
      " 0.50751913 3.08881229 0.19796533 1.44845989 0.64488398 0.07761793\n",
      " 0.58959517 1.24658495], f(X) = 0.6177577\n",
      "[300] X = [1.01421158 1.0648017  0.2490047  0.17890079 1.83438625 1.50350419\n",
      " 0.50587768 3.09557158 0.19775425 1.44531683 0.64319516 0.07747474\n",
      " 0.5878131  1.24521024], f(X) = 0.6177217\n",
      "[350] X = [1.01312977 1.06180004 0.248572   0.17858488 1.83084076 1.50304292\n",
      " 0.50454585 3.1022034  0.19755762 1.44221807 0.64152781 0.07733947\n",
      " 0.58607342 1.24380513], f(X) = 0.6176872\n",
      "[400] X = [1.01204176 1.05892277 0.24814837 0.17828901 1.82730983 1.50254198\n",
      " 0.50343183 3.1087132  0.19737209 1.43917137 0.63988289 0.07721041\n",
      " 0.58437571 1.24237449], f(X) = 0.6176541\n",
      "[450] X = [1.01094917 1.05616707 0.24773384 0.17800858 1.8237989  1.50200389\n",
      " 0.50247172 3.11510555 0.19719517 1.43618165 0.63826108 0.07708635\n",
      " 0.58271932 1.24092218], f(X) = 0.6176222\n",
      "[500] X = [1.00985328 1.05352891 0.24732828 0.17774036 1.820312   1.50143082\n",
      " 0.50162122 3.12138437 0.19702503 1.43325185 0.63666282 0.07696642\n",
      " 0.58110351 1.2394513 ], f(X) = 0.6175915\n",
      "[550] X = [1.00875515 1.05100353 0.24693145 0.17748207 1.81685222 1.50082465\n",
      " 0.50084969 3.12755313 0.19686029 1.43038357 0.63508843 0.07685001\n",
      " 0.57952744 1.23796446], f(X) = 0.6175619\n",
      "[600] X = [1.00765564 1.04858583 0.24654307 0.17723209 1.81342191 1.50018708\n",
      " 0.50013597 3.13361491 0.19669998 1.42757741 0.63353809 0.07673668\n",
      " 0.5779902  1.23646384], f(X) = 0.6175333\n",
      "[650] X = [1.00655548 1.0462705  0.24616284 0.17698926 1.81002291 1.49951963\n",
      " 0.49946543 3.13957258 0.19654336 1.42483335 0.63201189 0.0766261\n",
      " 0.57649087 1.23495139], f(X) = 0.6175058\n",
      "[700] X = [1.00545531 1.04405226 0.24579044 0.17675273 1.80665671 1.49882371\n",
      " 0.49882796 3.14542874 0.19638989 1.42215092 0.63050987 0.07651805\n",
      " 0.57502847 1.23342878], f(X) = 0.6174791\n",
      "[750] X = [1.0043557  1.04192591 0.24542558 0.1765219  1.80332449 1.49810066\n",
      " 0.49821655 3.15118589 0.19623919 1.41952933 0.62903198 0.07641234\n",
      " 0.57360206 1.23189757], f(X) = 0.6174534\n",
      "[800] X = [1.00325713 1.03988641 0.24506797 0.17629629 1.80002722 1.49735172\n",
      " 0.49762632 3.15684636 0.19609096 1.4169676  0.62757814 0.07630882\n",
      " 0.57221066 1.23035915], f(X) = 0.6174285\n",
      "[850] X = [1.00216008 1.03792891 0.24471733 0.17607555 1.79676571 1.49657807\n",
      " 0.49705383 3.16241237 0.19594498 1.4144646  0.62614826 0.07620739\n",
      " 0.57085331 1.22881483], f(X) = 0.6174044\n",
      "[900] X = [1.00106496 1.03604881 0.24437341 0.17585939 1.79354063 1.49578087\n",
      " 0.49649666 3.16788605 0.19580108 1.41201913 0.62474216 0.07610796\n",
      " 0.56952906 1.2272658 ], f(X) = 0.6173812\n",
      "[950] X = [0.99997215 1.0342417  0.24403598 0.17564758 1.79035254 1.49496119\n",
      " 0.49595305 3.17326946 0.19565913 1.40962993 0.62335969 0.07601045\n",
      " 0.56823696 1.22571319], f(X) = 0.6173587\n"
     ]
    },
    {
     "data": {
      "text/plain": [
       "array([0.99890379, 1.03253755, 0.24371138, 0.17544405, 1.78726454,\n",
       "       1.49413711, 0.49543226, 3.1784595 , 0.1955218 , 1.40734184,\n",
       "       0.6220276 , 0.07591669, 0.56700101, 1.2241892 ])"
      ]
     },
     "execution_count": 56,
     "metadata": {},
     "output_type": "execute_result"
    }
   ],
   "source": [
    "f = lambda X: multi_weighted_logloss(y_true, y_pred, X)\n",
    "gradient_descent(f, X, learning_rate=0.1, max_iter=1000)\n"
   ]
  },
  {
   "cell_type": "code",
   "execution_count": 64,
   "metadata": {
    "ExecuteTime": {
     "end_time": "2018-11-02T18:28:21.352974Z",
     "start_time": "2018-11-02T18:28:21.348792Z"
    }
   },
   "outputs": [
    {
     "data": {
      "text/plain": [
       "array([0.99890379, 1.03253755, 0.24371138, 0.17544405, 1.78726454,\n",
       "       1.49413711, 0.49543226, 3.1784595 , 0.1955218 , 1.40734184,\n",
       "       0.6220276 , 0.07591669, 0.56700101, 1.2241892 ])"
      ]
     },
     "execution_count": 64,
     "metadata": {},
     "output_type": "execute_result"
    }
   ],
   "source": [
    "X"
   ]
  },
  {
   "cell_type": "code",
   "execution_count": 65,
   "metadata": {
    "ExecuteTime": {
     "end_time": "2018-11-02T18:28:28.181936Z",
     "start_time": "2018-11-02T18:28:28.178860Z"
    }
   },
   "outputs": [],
   "source": [
    "X = np.append(X, 1)"
   ]
  },
  {
   "cell_type": "code",
   "execution_count": 71,
   "metadata": {
    "ExecuteTime": {
     "end_time": "2018-11-02T18:30:49.697214Z",
     "start_time": "2018-11-02T18:30:30.888750Z"
    }
   },
   "outputs": [],
   "source": [
    "sub = pd.read_csv('../output/1022-1_Giba-post2.csv.gz')"
   ]
  },
  {
   "cell_type": "code",
   "execution_count": 72,
   "metadata": {
    "ExecuteTime": {
     "end_time": "2018-11-02T18:30:49.716383Z",
     "start_time": "2018-11-02T18:30:49.699280Z"
    }
   },
   "outputs": [
    {
     "data": {
      "text/html": [
       "<div>\n",
       "<style scoped>\n",
       "    .dataframe tbody tr th:only-of-type {\n",
       "        vertical-align: middle;\n",
       "    }\n",
       "\n",
       "    .dataframe tbody tr th {\n",
       "        vertical-align: top;\n",
       "    }\n",
       "\n",
       "    .dataframe thead th {\n",
       "        text-align: right;\n",
       "    }\n",
       "</style>\n",
       "<table border=\"1\" class=\"dataframe\">\n",
       "  <thead>\n",
       "    <tr style=\"text-align: right;\">\n",
       "      <th></th>\n",
       "      <th>object_id</th>\n",
       "      <th>class_6</th>\n",
       "      <th>class_15</th>\n",
       "      <th>class_16</th>\n",
       "      <th>class_42</th>\n",
       "      <th>class_52</th>\n",
       "      <th>class_53</th>\n",
       "      <th>class_62</th>\n",
       "      <th>class_64</th>\n",
       "      <th>class_65</th>\n",
       "      <th>class_67</th>\n",
       "      <th>class_88</th>\n",
       "      <th>class_90</th>\n",
       "      <th>class_92</th>\n",
       "      <th>class_95</th>\n",
       "      <th>class_99</th>\n",
       "    </tr>\n",
       "  </thead>\n",
       "  <tbody>\n",
       "    <tr>\n",
       "      <th>0</th>\n",
       "      <td>13</td>\n",
       "      <td>0.0</td>\n",
       "      <td>0.000476</td>\n",
       "      <td>0.0</td>\n",
       "      <td>0.618422</td>\n",
       "      <td>0.085550</td>\n",
       "      <td>0.0</td>\n",
       "      <td>0.021970</td>\n",
       "      <td>0.000197</td>\n",
       "      <td>0.0</td>\n",
       "      <td>0.001204</td>\n",
       "      <td>0.000679</td>\n",
       "      <td>0.265750</td>\n",
       "      <td>0.0</td>\n",
       "      <td>0.001734</td>\n",
       "      <td>0.17</td>\n",
       "    </tr>\n",
       "    <tr>\n",
       "      <th>1</th>\n",
       "      <td>14</td>\n",
       "      <td>0.0</td>\n",
       "      <td>0.002630</td>\n",
       "      <td>0.0</td>\n",
       "      <td>0.238392</td>\n",
       "      <td>0.020065</td>\n",
       "      <td>0.0</td>\n",
       "      <td>0.008808</td>\n",
       "      <td>0.002570</td>\n",
       "      <td>0.0</td>\n",
       "      <td>0.002217</td>\n",
       "      <td>0.023524</td>\n",
       "      <td>0.686737</td>\n",
       "      <td>0.0</td>\n",
       "      <td>0.008908</td>\n",
       "      <td>0.17</td>\n",
       "    </tr>\n",
       "    <tr>\n",
       "      <th>2</th>\n",
       "      <td>17</td>\n",
       "      <td>0.0</td>\n",
       "      <td>0.002050</td>\n",
       "      <td>0.0</td>\n",
       "      <td>0.069637</td>\n",
       "      <td>0.004770</td>\n",
       "      <td>0.0</td>\n",
       "      <td>0.004623</td>\n",
       "      <td>0.001582</td>\n",
       "      <td>0.0</td>\n",
       "      <td>0.004237</td>\n",
       "      <td>0.022567</td>\n",
       "      <td>0.874976</td>\n",
       "      <td>0.0</td>\n",
       "      <td>0.011598</td>\n",
       "      <td>0.17</td>\n",
       "    </tr>\n",
       "    <tr>\n",
       "      <th>3</th>\n",
       "      <td>23</td>\n",
       "      <td>0.0</td>\n",
       "      <td>0.000667</td>\n",
       "      <td>0.0</td>\n",
       "      <td>0.056746</td>\n",
       "      <td>0.011112</td>\n",
       "      <td>0.0</td>\n",
       "      <td>0.018011</td>\n",
       "      <td>0.000856</td>\n",
       "      <td>0.0</td>\n",
       "      <td>0.046969</td>\n",
       "      <td>0.003459</td>\n",
       "      <td>0.846949</td>\n",
       "      <td>0.0</td>\n",
       "      <td>0.011036</td>\n",
       "      <td>0.17</td>\n",
       "    </tr>\n",
       "    <tr>\n",
       "      <th>4</th>\n",
       "      <td>34</td>\n",
       "      <td>0.0</td>\n",
       "      <td>0.000670</td>\n",
       "      <td>0.0</td>\n",
       "      <td>0.045704</td>\n",
       "      <td>0.070154</td>\n",
       "      <td>0.0</td>\n",
       "      <td>0.006544</td>\n",
       "      <td>0.000161</td>\n",
       "      <td>0.0</td>\n",
       "      <td>0.000827</td>\n",
       "      <td>0.000197</td>\n",
       "      <td>0.872713</td>\n",
       "      <td>0.0</td>\n",
       "      <td>0.000470</td>\n",
       "      <td>0.17</td>\n",
       "    </tr>\n",
       "  </tbody>\n",
       "</table>\n",
       "</div>"
      ],
      "text/plain": [
       "   object_id  class_6  class_15  class_16  class_42  class_52  class_53  \\\n",
       "0         13      0.0  0.000476       0.0  0.618422  0.085550       0.0   \n",
       "1         14      0.0  0.002630       0.0  0.238392  0.020065       0.0   \n",
       "2         17      0.0  0.002050       0.0  0.069637  0.004770       0.0   \n",
       "3         23      0.0  0.000667       0.0  0.056746  0.011112       0.0   \n",
       "4         34      0.0  0.000670       0.0  0.045704  0.070154       0.0   \n",
       "\n",
       "   class_62  class_64  class_65  class_67  class_88  class_90  class_92  \\\n",
       "0  0.021970  0.000197       0.0  0.001204  0.000679  0.265750       0.0   \n",
       "1  0.008808  0.002570       0.0  0.002217  0.023524  0.686737       0.0   \n",
       "2  0.004623  0.001582       0.0  0.004237  0.022567  0.874976       0.0   \n",
       "3  0.018011  0.000856       0.0  0.046969  0.003459  0.846949       0.0   \n",
       "4  0.006544  0.000161       0.0  0.000827  0.000197  0.872713       0.0   \n",
       "\n",
       "   class_95  class_99  \n",
       "0  0.001734      0.17  \n",
       "1  0.008908      0.17  \n",
       "2  0.011598      0.17  \n",
       "3  0.011036      0.17  \n",
       "4  0.000470      0.17  "
      ]
     },
     "execution_count": 72,
     "metadata": {},
     "output_type": "execute_result"
    }
   ],
   "source": [
    "sub.head()"
   ]
  },
  {
   "cell_type": "code",
   "execution_count": 73,
   "metadata": {
    "ExecuteTime": {
     "end_time": "2018-11-02T18:30:59.680562Z",
     "start_time": "2018-11-02T18:30:59.418799Z"
    }
   },
   "outputs": [],
   "source": [
    "val = sub.iloc[:, 1:].values"
   ]
  },
  {
   "cell_type": "code",
   "execution_count": 74,
   "metadata": {
    "ExecuteTime": {
     "end_time": "2018-11-02T18:31:09.562841Z",
     "start_time": "2018-11-02T18:31:09.508717Z"
    }
   },
   "outputs": [],
   "source": [
    "val *= X"
   ]
  },
  {
   "cell_type": "code",
   "execution_count": 75,
   "metadata": {
    "ExecuteTime": {
     "end_time": "2018-11-02T18:31:35.440648Z",
     "start_time": "2018-11-02T18:31:35.259011Z"
    }
   },
   "outputs": [],
   "source": [
    "val /= val.sum(1)[:, None]"
   ]
  },
  {
   "cell_type": "code",
   "execution_count": 76,
   "metadata": {
    "ExecuteTime": {
     "end_time": "2018-11-02T18:32:02.184641Z",
     "start_time": "2018-11-02T18:31:55.608812Z"
    }
   },
   "outputs": [],
   "source": [
    "sub.iloc[:, 1:] = val"
   ]
  },
  {
   "cell_type": "code",
   "execution_count": 77,
   "metadata": {
    "ExecuteTime": {
     "end_time": "2018-11-02T18:38:05.331935Z",
     "start_time": "2018-11-02T18:32:26.068771Z"
    }
   },
   "outputs": [],
   "source": [
    "sub.to_csv('../output/1022-1_Giba-post2-1103.csv.gz', index=False, compression='gzip')"
   ]
  },
  {
   "cell_type": "code",
   "execution_count": 78,
   "metadata": {
    "ExecuteTime": {
     "end_time": "2018-11-02T18:43:22.804995Z",
     "start_time": "2018-11-02T18:38:05.334244Z"
    }
   },
   "outputs": [],
   "source": [
    "utils.submit('../output/1022-1_Giba-post2-1103.csv.gz', 'only gal')"
   ]
  },
  {
   "cell_type": "code",
   "execution_count": null,
   "metadata": {},
   "outputs": [],
   "source": []
  }
 ],
 "metadata": {
  "kernelspec": {
   "display_name": "Python 3",
   "language": "python",
   "name": "python3"
  },
  "language_info": {
   "codemirror_mode": {
    "name": "ipython",
    "version": 3
   },
   "file_extension": ".py",
   "mimetype": "text/x-python",
   "name": "python",
   "nbconvert_exporter": "python",
   "pygments_lexer": "ipython3",
   "version": "3.6.4"
  }
 },
 "nbformat": 4,
 "nbformat_minor": 2
}
