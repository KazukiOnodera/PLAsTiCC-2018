{
 "cells": [
  {
   "cell_type": "code",
   "execution_count": 4,
   "metadata": {
    "ExecuteTime": {
     "end_time": "2018-12-13T15:18:23.193815Z",
     "start_time": "2018-12-13T15:18:17.052368Z"
    }
   },
   "outputs": [],
   "source": [
    "import pandas as pd\n",
    "import seaborn as sns"
   ]
  },
  {
   "cell_type": "code",
   "execution_count": 9,
   "metadata": {
    "ExecuteTime": {
     "end_time": "2018-12-13T16:49:42.796734Z",
     "start_time": "2018-12-13T16:49:42.793348Z"
    }
   },
   "outputs": [],
   "source": [
    "weight = [0.00018701308595216366, 1.3998496614011404e-05, 9.172556156945404e-06, 1.4552430685794995e-06, 1.9523117194399238e-05, 0.000483750624649992, 6.418557116972581e-06, 7.353177181019973e-05, 1.0682820130864151e-05, 1.8976822584613956e-05, 1.0340231956752077e-05, 5.426679286443834e-07, 5.556744158059296e-06, 2.559753068067002e-05]"
   ]
  },
  {
   "cell_type": "code",
   "execution_count": 10,
   "metadata": {
    "ExecuteTime": {
     "end_time": "2018-12-13T16:49:44.507165Z",
     "start_time": "2018-12-13T16:49:44.502797Z"
    }
   },
   "outputs": [],
   "source": [
    "weight = pd.Series(weight,\n",
    "                   index=[6, 15, 16, 42, 52, 53, 62, 64, 65, 67, 88, 90, 92, 95])"
   ]
  },
  {
   "cell_type": "code",
   "execution_count": 11,
   "metadata": {
    "ExecuteTime": {
     "end_time": "2018-12-13T16:49:46.343329Z",
     "start_time": "2018-12-13T16:49:46.102692Z"
    }
   },
   "outputs": [
    {
     "data": {
      "text/plain": [
       "<matplotlib.axes._subplots.AxesSubplot at 0x7ff35d499400>"
      ]
     },
     "execution_count": 11,
     "metadata": {},
     "output_type": "execute_result"
    },
    {
     "data": {
      "image/png": "[encoded data removed]",
      "text/plain": [
       "<matplotlib.figure.Figure at 0x7ff35d4e7c88>"
      ]
     },
     "metadata": {},
     "output_type": "display_data"
    }
   ],
   "source": [
    "(weight / weight.sum()).plot(kind='bar')"
   ]
  },
  {
   "cell_type": "code",
   "execution_count": null,
   "metadata": {},
   "outputs": [],
   "source": []
  }
 ],
 "metadata": {
  "kernelspec": {
   "display_name": "Python 3",
   "language": "python",
   "name": "python3"
  },
  "language_info": {
   "codemirror_mode": {
    "name": "ipython",
    "version": 3
   },
   "file_extension": ".py",
   "mimetype": "text/x-python",
   "name": "python",
   "nbconvert_exporter": "python",
   "pygments_lexer": "ipython3",
   "version": "3.6.4"
  }
 },
 "nbformat": 4,
 "nbformat_minor": 2
}
