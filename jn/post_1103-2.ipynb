{
 "cells": [
  {
   "cell_type": "code",
   "execution_count": 1,
   "metadata": {
    "ExecuteTime": {
     "end_time": "2018-11-04T08:17:44.192844Z",
     "start_time": "2018-11-04T08:17:34.787606Z"
    }
   },
   "outputs": [],
   "source": [
    "import pandas as pd\n",
    "import numpy as np\n",
    "from multiprocessing import cpu_count, Pool\n",
    "\n",
    "from sys import path\n",
    "path.append('../py/')\n",
    "import utils"
   ]
  },
  {
   "cell_type": "code",
   "execution_count": 2,
   "metadata": {
    "ExecuteTime": {
     "end_time": "2018-11-04T08:17:45.587666Z",
     "start_time": "2018-11-04T08:17:45.177240Z"
    }
   },
   "outputs": [
    {
     "name": "stdout",
     "output_type": "stream",
     "text": [
      "total 8505900\n",
      "-rw-rw-r-- 1 Kazuki 464402276 Oct 14 22:48 \u001b[0m\u001b[01;31m1015-1.csv.gz\u001b[0m\n",
      "-rw-rw-r-- 1 Kazuki 496058539 Oct 15 03:49 \u001b[01;31m1015-2.csv.gz\u001b[0m\n",
      "-rw-rw-r-- 1 Kazuki 496517344 Oct 15 05:54 \u001b[01;31m1015-2_norm.csv.gz\u001b[0m\n",
      "-rw-rw-r-- 1 Kazuki 495961439 Oct 15 09:02 \u001b[01;31m1015-3.csv.gz\u001b[0m\n",
      "-rw-rw-r-- 1 Kazuki 495234941 Oct 15 12:20 \u001b[01;31m1015-4.csv.gz\u001b[0m\n",
      "-rw-rw-r-- 1 Kazuki 465782097 Oct 16 12:15 \u001b[01;31m1016-1.csv.gz\u001b[0m\n",
      "-rw-rw-r-- 1 Kazuki 496235989 Oct 22 16:31 \u001b[01;31m1022-1.csv.gz\u001b[0m\n",
      "-rw-rw-r-- 1 Kazuki 301176865 Nov  2 14:00 \u001b[01;31m1022-1_Giba-post2-1102.csv.gz\u001b[0m\n",
      "-rw-rw-r-- 1 Kazuki 328807757 Nov  2 18:38 \u001b[01;31m1022-1_Giba-post2-1103.csv.gz\u001b[0m\n",
      "-rw-rw-r-- 1 Kazuki 299206323 Oct 29 02:41 \u001b[01;31m1022-1_Giba-post2.csv.gz\u001b[0m\n",
      "-rw-rw-r-- 1 Kazuki 466073193 Oct 28 18:22 \u001b[01;31m1022-1_Giba-post.csv.gz\u001b[0m\n",
      "-rw-rw-r-- 1 Kazuki 465882787 Oct 29 02:55 \u001b[01;31m1022-1_yuval-post2.csv.gz\u001b[0m\n",
      "-rw-rw-r-- 1 Kazuki 465882786 Oct 28 18:39 \u001b[01;31m1022-1_yuval-post.csv.gz\u001b[0m\n",
      "-rw-rw-r-- 1 Kazuki 495912794 Oct 26 07:51 \u001b[01;31m1026-1.csv.gz\u001b[0m\n",
      "-rw-rw-r-- 1 Kazuki 327808317 Oct 26 11:08 \u001b[01;31m1026-2.csv.gz\u001b[0m\n",
      "-rw-rw-r-- 1 Kazuki 492728101 Oct 27 02:58 \u001b[01;31m1027-1.csv.gz\u001b[0m\n",
      "-rw-rw-r-- 1 Kazuki 325283039 Oct 27 10:00 \u001b[01;31m1027-2.csv.gz\u001b[0m\n",
      "-rw-rw-r-- 1 Kazuki 299986723 Oct 29 07:39 \u001b[01;31m1029-1.csv.gz\u001b[0m\n",
      "-rw-rw-r-- 1 Kazuki 300133783 Oct 29 09:14 \u001b[01;31m1029-2.csv.gz\u001b[0m\n",
      "-rw-rw-r-- 1 Kazuki 298274310 Nov  4 04:30 \u001b[01;31m1103-2.csv.gz\u001b[0m\n",
      "-rw-rw-r-- 1 Kazuki 432584478 Oct 16 12:09 \u001b[01;31msub.csv.gz\u001b[0m\n"
     ]
    }
   ],
   "source": [
    "ll ../output/"
   ]
  },
  {
   "cell_type": "code",
   "execution_count": 3,
   "metadata": {
    "ExecuteTime": {
     "end_time": "2018-11-04T08:18:01.890698Z",
     "start_time": "2018-11-04T08:17:45.589889Z"
    }
   },
   "outputs": [],
   "source": [
    "sub = pd.read_csv('../output/1103-2.csv.gz')"
   ]
  },
  {
   "cell_type": "code",
   "execution_count": 4,
   "metadata": {
    "ExecuteTime": {
     "end_time": "2018-11-04T08:18:02.179394Z",
     "start_time": "2018-11-04T08:18:01.892874Z"
    }
   },
   "outputs": [],
   "source": [
    "y_pred = sub.iloc[:, 1:].values"
   ]
  },
  {
   "cell_type": "code",
   "execution_count": 5,
   "metadata": {
    "ExecuteTime": {
     "end_time": "2018-11-04T08:18:02.208376Z",
     "start_time": "2018-11-04T08:18:02.181921Z"
    }
   },
   "outputs": [
    {
     "data": {
      "text/plain": [
       "array([[0.00000000e+00, 2.23553094e-04, 0.00000000e+00, ...,\n",
       "        0.00000000e+00, 3.35000973e-03, 1.70000000e-01],\n",
       "       [0.00000000e+00, 5.99053733e-03, 0.00000000e+00, ...,\n",
       "        0.00000000e+00, 1.40636104e-03, 1.70000000e-01],\n",
       "       [0.00000000e+00, 4.72240210e-03, 0.00000000e+00, ...,\n",
       "        0.00000000e+00, 1.69739055e-03, 1.70000000e-01],\n",
       "       ...,\n",
       "       [0.00000000e+00, 3.49196621e-03, 0.00000000e+00, ...,\n",
       "        0.00000000e+00, 5.49419744e-03, 1.70000000e-01],\n",
       "       [0.00000000e+00, 5.11314763e-01, 0.00000000e+00, ...,\n",
       "        0.00000000e+00, 1.27451435e-03, 1.70000000e-01],\n",
       "       [0.00000000e+00, 2.76968192e-02, 0.00000000e+00, ...,\n",
       "        0.00000000e+00, 2.32488486e-03, 1.70000000e-01]])"
      ]
     },
     "execution_count": 5,
     "metadata": {},
     "output_type": "execute_result"
    }
   ],
   "source": [
    "y_pred"
   ]
  },
  {
   "cell_type": "code",
   "execution_count": 6,
   "metadata": {
    "ExecuteTime": {
     "end_time": "2018-11-04T08:18:02.954763Z",
     "start_time": "2018-11-04T08:18:02.210310Z"
    }
   },
   "outputs": [],
   "source": [
    "oid_gal   = pd.read_pickle('../data/oid_gal.pkl').object_id\n",
    "oid_exgal = pd.read_pickle('../data/oid_exgal.pkl').object_id"
   ]
  },
  {
   "cell_type": "code",
   "execution_count": 7,
   "metadata": {
    "ExecuteTime": {
     "end_time": "2018-11-04T08:18:03.117449Z",
     "start_time": "2018-11-04T08:18:02.956875Z"
    }
   },
   "outputs": [],
   "source": [
    "def multi_weighted_logloss(y_true, y_pred, myweight=None):\n",
    "    \"\"\"\n",
    "    @author olivier https://www.kaggle.com/ogrellier\n",
    "    multi logloss for PLAsTiCC challenge\n",
    "    \"\"\"\n",
    "    # class_weights taken from Giba's topic : https://www.kaggle.com/titericz\n",
    "    # https://www.kaggle.com/c/PLAsTiCC-2018/discussion/67194\n",
    "    # with Kyle Boone's post https://www.kaggle.com/kyleboone\n",
    "    classes = [6, 15, 16, 42, 52, 53, 62, 64, 65, 67, 88, 90, 92, 95]\n",
    "    class_weight = {6: 1, 15: 2, 16: 1, 42: 1, 52: 1, 53: 1, 62: 1, 64: 2, 65: 1, 67: 1, 88: 1, 90: 1, 92: 1, 95: 1}\n",
    "    if True:\n",
    "        classes.append(99)\n",
    "        class_weight[99] = 2\n",
    "    \n",
    "    if myweight is None:\n",
    "        myweight = np.ones(M)\n",
    "    y_p = y_pred * myweight\n",
    "    \n",
    "    # normalize\n",
    "    y_p /= y_p.sum(1)[:,None]\n",
    "    \n",
    "    # Normalize rows and limit y_preds to 1e-15, 1-1e-15\n",
    "    y_p = np.clip(a=y_p, a_min=1e-15, a_max=1 - 1e-15)\n",
    "    # Transform to log\n",
    "    y_p_log = np.log(y_p)\n",
    "    # Get the log for ones, .values is used to drop the index of DataFrames\n",
    "    # Exclude class 99 for now, since there is no class99 in the training set\n",
    "    # we gave a special process for that class\n",
    "    y_log_ones = np.sum(y_true * y_p_log, axis=0)\n",
    "    # Get the number of positives for each class\n",
    "    nb_pos = y_true.sum(axis=0).astype(float)\n",
    "    # Weight average and divide by the number of positives\n",
    "    class_arr = np.array([class_weight[k] for k in sorted(class_weight.keys())])\n",
    "    y_w = y_log_ones * class_arr / nb_pos\n",
    "\n",
    "    loss = - np.nansum(y_w) / np.sum(class_arr)\n",
    "    return loss\n",
    "\n",
    "\n",
    "def calc_gradient(f, X):\n",
    "    \"\"\"\n",
    "    calc_gradient\n",
    "    偏微分を行う関数\n",
    "    関数fを変数xの各要素で偏微分した結果をベクトルにした勾配を返す\n",
    "    \n",
    "    @params\n",
    "    f: 対象となる関数\n",
    "    X: 関数fの引数のベクトル(numpy.array)\n",
    "    \n",
    "    @return\n",
    "    gradient: 勾配(numpy.array)\n",
    "    \"\"\"\n",
    "    \n",
    "    h = 1e-4\n",
    "    gradient = np.zeros_like(X)\n",
    "    \n",
    "    # 各変数についての偏微分を計算する\n",
    "    for i in range(X.size):\n",
    "        store_X = X[:]\n",
    "        \n",
    "        # f(x+h)\n",
    "        X[i] += h\n",
    "        f_x_plus_h = f(X)\n",
    "\n",
    "        X = store_X[:]\n",
    "        \n",
    "        # f(x-h)\n",
    "        X[i] -= h\n",
    "        f_x_minus_h = f(X)\n",
    "        \n",
    "        # 偏微分\n",
    "        gradient[i] = (f_x_plus_h - f_x_minus_h) / (2 * h)\n",
    "        \n",
    "    return gradient\n",
    "\n",
    "def gradient_descent(f, X, learning_rate, max_iter, is_print=False):\n",
    "    \"\"\"\n",
    "    gradient_descent\n",
    "    最急降下法を行う関数\n",
    "    \n",
    "    @params\n",
    "    f: 対象となる関数\n",
    "    X: 関数fの引数のベクトル(numpy.array)\n",
    "    learning_rate: 学習率\n",
    "    max_iter: 繰り返し回数\n",
    "    \n",
    "    @return\n",
    "    X: 関数の出力を最小にする(であろう)引数(numpy.array)\n",
    "    \"\"\"\n",
    "    score_bk = 9999\n",
    "    for i in range(max_iter):\n",
    "        X -= (learning_rate * calc_gradient(f, X))\n",
    "        score = f(X)\n",
    "        if score_bk < score:\n",
    "            break\n",
    "        score_bk = score\n",
    "        if is_print and i%50==0:\n",
    "            print(\"[{:3d}] X = {}, f(X) = {:.7f}\".format(i, X, score))\n",
    "        \n",
    "    return X"
   ]
  },
  {
   "cell_type": "code",
   "execution_count": 8,
   "metadata": {
    "ExecuteTime": {
     "end_time": "2018-11-04T08:18:03.124238Z",
     "start_time": "2018-11-04T08:18:03.119941Z"
    }
   },
   "outputs": [],
   "source": [
    "M = 15\n",
    "\n",
    "X = np.ones(M)"
   ]
  },
  {
   "cell_type": "code",
   "execution_count": 9,
   "metadata": {
    "ExecuteTime": {
     "end_time": "2018-11-04T08:18:03.132657Z",
     "start_time": "2018-11-04T08:18:03.126409Z"
    }
   },
   "outputs": [],
   "source": [
    "di = {}\n",
    "for i in np.arange(0.00, 1.01, 0.01):\n",
    "    di[round(i, 2)] = np.append(np.ones(int(i*1000)), np.zeros( 1000-int(i*1000) ))"
   ]
  },
  {
   "cell_type": "code",
   "execution_count": 10,
   "metadata": {
    "ExecuteTime": {
     "end_time": "2018-11-04T08:18:03.181236Z",
     "start_time": "2018-11-04T08:18:03.134262Z"
    }
   },
   "outputs": [
    {
     "data": {
      "text/plain": [
       "(1000,)"
      ]
     },
     "execution_count": 10,
     "metadata": {},
     "output_type": "execute_result"
    }
   ],
   "source": [
    "di[y_pred[0][4].round(2)].shape"
   ]
  },
  {
   "cell_type": "code",
   "execution_count": 16,
   "metadata": {
    "ExecuteTime": {
     "end_time": "2018-11-04T08:24:27.375389Z",
     "start_time": "2018-11-04T08:24:27.367220Z"
    }
   },
   "outputs": [],
   "source": [
    "def multi(idx):\n",
    "    w = np.ones(15)\n",
    "    y_true = np.array( [di[y_pred[idx][i].round(2)] for i in range(15)]).T\n",
    "    y_pred_ = np.array([y_pred[idx] for i in range(1000)])\n",
    "    f = lambda X: multi_weighted_logloss(y_true, y_pred_, w)\n",
    "    gradient_descent(f, w, learning_rate=5, max_iter=100)\n",
    "    return y_pred[idx] * w"
   ]
  },
  {
   "cell_type": "code",
   "execution_count": 136,
   "metadata": {
    "ExecuteTime": {
     "end_time": "2018-11-04T07:45:10.263051Z",
     "start_time": "2018-11-04T07:45:09.947296Z"
    }
   },
   "outputs": [
    {
     "name": "stdout",
     "output_type": "stream",
     "text": [
      "[  0] X = [1.         0.99918326 1.         0.88184764 1.02240508 1.\n",
      " 0.91340641 1.10714602 1.         0.99052745 1.0515027  1.01673827\n",
      " 1.         0.99892344 1.01829787], f(X) = 1.5492161\n"
     ]
    },
    {
     "data": {
      "text/plain": [
       "array([1.        , 0.9760716 , 1.        , 0.0113356 , 0.89108592,\n",
       "       1.        , 0.16793319, 2.05966241, 1.        , 0.35447399,\n",
       "       1.5737272 , 0.77293624, 1.        , 0.96845964, 0.46481887])"
      ]
     },
     "execution_count": 136,
     "metadata": {},
     "output_type": "execute_result"
    }
   ],
   "source": [
    "idx = 3\n",
    "w = np.ones(15)\n",
    "y_true = np.array( [di[y_pred[idx][i].round(2)] for i in range(15)]).T\n",
    "y_pred_ = np.array([y_pred[idx] for i in range(1000)])\n",
    "f = lambda X: multi_weighted_logloss(y_true, y_pred_, w)\n",
    "gradient_descent(f, w, learning_rate=2, max_iter=1000, is_print=True)"
   ]
  },
  {
   "cell_type": "code",
   "execution_count": null,
   "metadata": {},
   "outputs": [],
   "source": []
  },
  {
   "cell_type": "code",
   "execution_count": 125,
   "metadata": {
    "ExecuteTime": {
     "end_time": "2018-11-04T07:39:15.061342Z",
     "start_time": "2018-11-04T07:39:15.057557Z"
    }
   },
   "outputs": [
    {
     "data": {
      "text/plain": [
       "(15,)"
      ]
     },
     "execution_count": 125,
     "metadata": {},
     "output_type": "execute_result"
    }
   ],
   "source": [
    "y_true.shape"
   ]
  },
  {
   "cell_type": "code",
   "execution_count": 17,
   "metadata": {
    "ExecuteTime": {
     "end_time": "2018-11-04T08:25:06.503691Z",
     "start_time": "2018-11-04T08:24:30.406904Z"
    }
   },
   "outputs": [],
   "source": [
    "pool = Pool(cpu_count())\n",
    "callback = pool.map(multi, range(9999))\n",
    "pool.close()"
   ]
  },
  {
   "cell_type": "code",
   "execution_count": 141,
   "metadata": {
    "ExecuteTime": {
     "end_time": "2018-11-04T07:54:59.213407Z",
     "start_time": "2018-11-04T07:54:59.207333Z"
    }
   },
   "outputs": [
    {
     "data": {
      "text/plain": [
       "array([[ 0.00000000e+00,  3.46044640e-04,  0.00000000e+00, ...,\n",
       "         0.00000000e+00,  5.13883569e-03,  3.15934160e-01],\n",
       "       [ 0.00000000e+00,  2.21632917e-02,  0.00000000e+00, ...,\n",
       "         0.00000000e+00,  3.78950240e-03,  3.44748760e-01],\n",
       "       [ 0.00000000e+00,  1.71575965e-02,  0.00000000e+00, ...,\n",
       "         0.00000000e+00,  6.28044811e-03,  4.46907613e-01],\n",
       "       ...,\n",
       "       [ 0.00000000e+00,  2.72957664e-02,  0.00000000e+00, ...,\n",
       "         0.00000000e+00,  2.89947263e-03,  1.23881745e-01],\n",
       "       [ 0.00000000e+00,  1.35162954e-04,  0.00000000e+00, ...,\n",
       "         0.00000000e+00,  3.21591011e-04,  5.77816686e-01],\n",
       "       [ 0.00000000e+00,  6.32684433e-04,  0.00000000e+00, ...,\n",
       "         0.00000000e+00, -2.26226519e-03,  2.87401572e-01]])"
      ]
     },
     "execution_count": 141,
     "metadata": {},
     "output_type": "execute_result"
    }
   ],
   "source": [
    "arr = np.array(callback)\n",
    "arr /= arr.sum(1)[:,None]\n",
    "arr"
   ]
  },
  {
   "cell_type": "code",
   "execution_count": 117,
   "metadata": {
    "ExecuteTime": {
     "end_time": "2018-11-04T07:36:31.653663Z",
     "start_time": "2018-11-04T07:36:31.648762Z"
    }
   },
   "outputs": [
    {
     "data": {
      "text/plain": [
       "15"
      ]
     },
     "execution_count": 117,
     "metadata": {},
     "output_type": "execute_result"
    }
   ],
   "source": [
    "y_true.shape[1]"
   ]
  },
  {
   "cell_type": "code",
   "execution_count": 15,
   "metadata": {
    "ExecuteTime": {
     "end_time": "2018-11-04T08:24:17.393375Z",
     "start_time": "2018-11-04T08:24:17.388809Z"
    }
   },
   "outputs": [],
   "source": [
    "pool.close()"
   ]
  },
  {
   "cell_type": "code",
   "execution_count": 144,
   "metadata": {
    "ExecuteTime": {
     "end_time": "2018-11-04T08:13:31.743891Z",
     "start_time": "2018-11-04T08:13:31.738039Z"
    }
   },
   "outputs": [
    {
     "data": {
      "text/plain": [
       "(3492890, 16)"
      ]
     },
     "execution_count": 144,
     "metadata": {},
     "output_type": "execute_result"
    }
   ],
   "source": [
    "sub.shape"
   ]
  },
  {
   "cell_type": "code",
   "execution_count": null,
   "metadata": {},
   "outputs": [],
   "source": []
  }
 ],
 "metadata": {
  "kernelspec": {
   "display_name": "Python 3",
   "language": "python",
   "name": "python3"
  },
  "language_info": {
   "codemirror_mode": {
    "name": "ipython",
    "version": 3
   },
   "file_extension": ".py",
   "mimetype": "text/x-python",
   "name": "python",
   "nbconvert_exporter": "python",
   "pygments_lexer": "ipython3",
   "version": "3.6.4"
  }
 },
 "nbformat": 4,
 "nbformat_minor": 2
}
