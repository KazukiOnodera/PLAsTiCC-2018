{
 "cells": [
  {
   "cell_type": "code",
   "execution_count": 1,
   "metadata": {
    "ExecuteTime": {
     "end_time": "2018-11-04T12:31:03.924788Z",
     "start_time": "2018-11-04T12:30:54.787995Z"
    }
   },
   "outputs": [],
   "source": [
    "import pandas as pd\n",
    "import numpy as np\n",
    "\n",
    "from sys import path\n",
    "path.append('../py/')\n",
    "import utils"
   ]
  },
  {
   "cell_type": "code",
   "execution_count": 8,
   "metadata": {
    "ExecuteTime": {
     "end_time": "2018-11-04T12:35:20.756751Z",
     "start_time": "2018-11-04T12:35:05.902915Z"
    }
   },
   "outputs": [],
   "source": [
    "FILE_in = '../output/1103-2.csv.gz'\n",
    "FILE_out = '../output/1103-2_post-univ.csv.gz'\n",
    "\n",
    "sub = pd.read_csv(FILE_in)"
   ]
  },
  {
   "cell_type": "code",
   "execution_count": 3,
   "metadata": {
    "ExecuteTime": {
     "end_time": "2018-11-04T12:33:02.464000Z",
     "start_time": "2018-11-04T12:33:02.452697Z"
    }
   },
   "outputs": [
    {
     "data": {
      "text/plain": [
       "array([0.63372652, 0.84848374, 0.16450339, 0.13621888, 1.46600655,\n",
       "       1.03957252, 0.40900711, 2.64056931, 0.15330701, 1.13485221,\n",
       "       0.42386951, 0.05582132, 0.3649831 , 0.90009068])"
      ]
     },
     "execution_count": 3,
     "metadata": {},
     "output_type": "execute_result"
    }
   ],
   "source": [
    "weight = np.array([0.63372652, 0.84848374, 0.16450339, 0.13621888, 1.46600655, 1.03957252,\n",
    " 0.40900711, 2.64056931, 0.15330701, 1.13485221, 0.42386951, 0.05582132,\n",
    " 0.3649831,  0.90009068])\n",
    "weight"
   ]
  },
  {
   "cell_type": "code",
   "execution_count": 5,
   "metadata": {
    "ExecuteTime": {
     "end_time": "2018-11-04T12:33:38.477173Z",
     "start_time": "2018-11-04T12:33:38.472509Z"
    }
   },
   "outputs": [
    {
     "data": {
      "text/plain": [
       "(15,)"
      ]
     },
     "execution_count": 5,
     "metadata": {},
     "output_type": "execute_result"
    }
   ],
   "source": [
    "weight = np.append(weight, 1)\n",
    "weight.shape"
   ]
  },
  {
   "cell_type": "code",
   "execution_count": 6,
   "metadata": {
    "ExecuteTime": {
     "end_time": "2018-11-04T12:33:44.621756Z",
     "start_time": "2018-11-04T12:33:44.617451Z"
    }
   },
   "outputs": [
    {
     "data": {
      "text/plain": [
       "array([0.63372652, 0.84848374, 0.16450339, 0.13621888, 1.46600655,\n",
       "       1.03957252, 0.40900711, 2.64056931, 0.15330701, 1.13485221,\n",
       "       0.42386951, 0.05582132, 0.3649831 , 0.90009068, 1.        ])"
      ]
     },
     "execution_count": 6,
     "metadata": {},
     "output_type": "execute_result"
    }
   ],
   "source": [
    "weight"
   ]
  },
  {
   "cell_type": "code",
   "execution_count": 11,
   "metadata": {
    "ExecuteTime": {
     "end_time": "2018-11-04T12:36:19.245867Z",
     "start_time": "2018-11-04T12:36:18.383075Z"
    }
   },
   "outputs": [],
   "source": [
    "val = sub.iloc[:, 1:].values\n",
    "val *= weight\n",
    "val /= val.sum(1)[:,None]\n",
    "val = np.clip(a=val, a_min=1e-15, a_max=1 - 1e-15)"
   ]
  },
  {
   "cell_type": "code",
   "execution_count": 12,
   "metadata": {
    "ExecuteTime": {
     "end_time": "2018-11-04T12:36:46.551568Z",
     "start_time": "2018-11-04T12:36:39.462606Z"
    }
   },
   "outputs": [],
   "source": [
    "sub.iloc[:, 1:] = val"
   ]
  },
  {
   "cell_type": "code",
   "execution_count": 14,
   "metadata": {
    "ExecuteTime": {
     "end_time": "2018-11-04T12:48:07.052149Z",
     "start_time": "2018-11-04T12:38:08.332698Z"
    }
   },
   "outputs": [],
   "source": [
    "sub.to_csv(FILE_out, index=False, compression='gzip')\n",
    "utils.submit(FILE_out, 'universal weight from CV')"
   ]
  },
  {
   "cell_type": "code",
   "execution_count": null,
   "metadata": {},
   "outputs": [],
   "source": []
  }
 ],
 "metadata": {
  "kernelspec": {
   "display_name": "Python 3",
   "language": "python",
   "name": "python3"
  },
  "language_info": {
   "codemirror_mode": {
    "name": "ipython",
    "version": 3
   },
   "file_extension": ".py",
   "mimetype": "text/x-python",
   "name": "python",
   "nbconvert_exporter": "python",
   "pygments_lexer": "ipython3",
   "version": "3.6.4"
  }
 },
 "nbformat": 4,
 "nbformat_minor": 2
}
